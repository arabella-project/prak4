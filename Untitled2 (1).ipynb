{
  "nbformat": 4,
  "nbformat_minor": 0,
  "metadata": {
    "colab": {
      "provenance": [],
      "toc_visible": true
    },
    "kernelspec": {
      "name": "python3",
      "display_name": "Python 3"
    },
    "language_info": {
      "name": "python"
    }
  },
  "cells": [
    {
      "cell_type": "code",
      "source": [
        "def nama_fungsi():\n",
        "    print (\"Hello ini Fungsi\")\n",
        "\n"
      ],
      "metadata": {
        "id": "bEvQI1ywI1_F"
      },
      "execution_count": 9,
      "outputs": []
    },
    {
      "cell_type": "code",
      "source": [
        "# Membuat Fungsi\n",
        "def salam():\n",
        "    print (\"Hello, Selamat Pagi\")\n",
        "## Pemanggilan Fungsi\n",
        "salam()\n"
      ],
      "metadata": {
        "colab": {
          "base_uri": "https://localhost:8080/"
        },
        "id": "VRxJ6qv3JIvq",
        "outputId": "463a1ca7-1419-40e2-80d9-1b2ebc84ccaa"
      },
      "execution_count": 11,
      "outputs": [
        {
          "output_type": "stream",
          "name": "stdout",
          "text": [
            "Hello, Selamat Pagi\n"
          ]
        }
      ]
    },
    {
      "cell_type": "code",
      "source": [
        "# Membuat Fungsi\n",
        "def salam():\n",
        "    print (\"Hello, Selamat Pagi\")\n",
        "\n",
        "## Pemanggilan Fungsi\n",
        "salam()\n",
        "salam()\n",
        "salam()\n"
      ],
      "metadata": {
        "colab": {
          "base_uri": "https://localhost:8080/"
        },
        "id": "_Hj_jCvEJC2V",
        "outputId": "f2bbc578-65d1-4268-ea4b-012a86af0dfa"
      },
      "execution_count": 13,
      "outputs": [
        {
          "output_type": "stream",
          "name": "stdout",
          "text": [
            "Hello, Selamat Pagi\n",
            "Hello, Selamat Pagi\n",
            "Hello, Selamat Pagi\n"
          ]
        }
      ]
    },
    {
      "cell_type": "code",
      "source": [
        "def salam(ucapan):\n",
        "    print(ucapan)\n"
      ],
      "metadata": {
        "id": "iNgsT8Y7JVLH"
      },
      "execution_count": 14,
      "outputs": []
    },
    {
      "cell_type": "code",
      "source": [
        "# Membuat fungsi dengan parameter\n",
        "def luas_segitiga(alas, tinggi):\n",
        "    luas = (alas * tinggi) / 2\n",
        "    print (\"Luas segitiga: %f\"% luas);\n",
        "\n",
        "# Pemanggilan fungsi\n",
        "luas_segitiga(4, 6)\n"
      ],
      "metadata": {
        "colab": {
          "base_uri": "https://localhost:8080/"
        },
        "id": "GhjSSJKJJiUp",
        "outputId": "f89f4527-defd-4392-b215-089e4416548e"
      },
      "execution_count": 16,
      "outputs": [
        {
          "output_type": "stream",
          "name": "stdout",
          "text": [
            "Luas segitiga: 12.000000\n"
          ]
        }
      ]
    },
    {
      "cell_type": "code",
      "source": [
        "def luas_persegi(sisi):\n",
        "    luas = sisi * sisi\n",
        "    return luas\n",
        "\n",
        "# pemanggilan fungsi\n",
        "print (\"Luas persegi: %d\" % luas_persegi(6))\n"
      ],
      "metadata": {
        "colab": {
          "base_uri": "https://localhost:8080/"
        },
        "id": "yRrA4EOBJ9DT",
        "outputId": "193d14cf-0e06-4596-a478-0799f5a0ade7"
      },
      "execution_count": 17,
      "outputs": [
        {
          "output_type": "stream",
          "name": "stdout",
          "text": [
            "Luas persegi: 36\n"
          ]
        }
      ]
    },
    {
      "cell_type": "code",
      "source": [
        "# rumus: sisi x sisi\n",
        "def luas_persegi(sisi):\n",
        "    luas = sisi * sisi\n",
        "    return luas\n",
        "\n",
        "\n",
        "# rumus: sisi x sisi x sisi\n",
        "def volume_persegi(sisi):\n",
        "    volume = luas_persegi(sisi) * sisi\n",
        "\n"
      ],
      "metadata": {
        "id": "X8e3385iKG0-"
      },
      "execution_count": 18,
      "outputs": []
    },
    {
      "cell_type": "code",
      "source": [
        "# membuat variabel global\n",
        "nama = \"Muhammad Rayanza al Maliki\"\n",
        "versi = \"1.0.0\"\n",
        "\n",
        "def help():\n",
        "    # ini variabel lokal\n",
        "    nama = \"Programku\"\n",
        "    versi = \"1.0.2\"\n",
        "    # mengakses variabel lokal\n",
        "    print (\"Nama: %s\" % nama)\n",
        "    print (\"Versi: %s\" % versi)\n",
        "\n",
        "\n",
        "# mengakses variabel global\n",
        "print (\"Nama: %s\" % nama)\n",
        "print (\"Versi: %s\" % versi)\n",
        "\n",
        "# memanggil fungsi help()\n",
        "help()\n"
      ],
      "metadata": {
        "colab": {
          "base_uri": "https://localhost:8080/"
        },
        "id": "qXFvbZrPKPV-",
        "outputId": "6e6aba7e-a41e-4385-f5d2-5bd9b00168a6"
      },
      "execution_count": 20,
      "outputs": [
        {
          "output_type": "stream",
          "name": "stdout",
          "text": [
            "Nama: Muhammad Rayanza al Maliki\n",
            "Versi: 1.0.0\n",
            "Nama: Programku\n",
            "Versi: 1.0.2\n"
          ]
        }
      ]
    },
    {
      "cell_type": "code",
      "source": [
        "# fungsi untuk menampilkan semua data\n",
        "def show_data():\n",
        "    if len(buku) <= 0:\n",
        "        print (\"BELUM ADA DATA\")\n",
        "    else:\n",
        "        for indeks in range(len(buku)):\n",
        "            print (\"[%d] %s\" % (indeks, buku[indeks]))\n"
      ],
      "metadata": {
        "id": "dnSUB3inKwWf"
      },
      "execution_count": 22,
      "outputs": []
    },
    {
      "cell_type": "code",
      "source": [
        "# fungsi untuk menambah data\n",
        "def insert_data():\n",
        "    buku_baru = raw_input(\"Judul Buku: \")\n",
        "    buku.append(buku_baru)\n"
      ],
      "metadata": {
        "id": "TNNJrcvcLOEO"
      },
      "execution_count": null,
      "outputs": []
    },
    {
      "cell_type": "code",
      "source": [
        "# fungsi untuk edit data\n",
        "def edit_data():\n",
        "    show_data()\n",
        "    indeks = input(\"Inputkan ID buku: \")\n",
        "    if(indeks > len(buku)):\n",
        "        print (\"ID salah\")\n",
        "    else:\n",
        "        judul_baru = raw_input(\"Judul baru: \")\n",
        "        buku[indeks] = judul_baru\n"
      ],
      "metadata": {
        "id": "zYVXxu6yLPoL"
      },
      "execution_count": 23,
      "outputs": []
    },
    {
      "cell_type": "code",
      "source": [
        "# fungsi untuk menghapus data\n",
        "def delete_data():\n",
        "    show_data()\n",
        "    indeks = input(\"Inputkan ID buku: \")\n",
        "    if(indeks > len(buku)):\n",
        "        print (\"ID salah\")\n",
        "    else:\n",
        "        buku.remove(buku[indeks])\n"
      ],
      "metadata": {
        "id": "Dbr_gWFSLdY9"
      },
      "execution_count": 24,
      "outputs": []
    },
    {
      "cell_type": "code",
      "source": [
        "# fungsi untuk menampilkan menu\n",
        "def show_menu():\n",
        "    print (\"\\n\")\n",
        "    print (\"----------- MENU ----------\")\n",
        "    print (\"[1] Show Data\")\n",
        "    print (\"[2] Insert Data\")\n",
        "    print (\"[3] Edit Data\")\n",
        "    print (\"[4] Delete Data\")\n",
        "    print (\"[5] Exit\")\n",
        "\n",
        "    menu = input(\"PILIH MENU> \")\n",
        "    print (\"\\n\")\n",
        "\n",
        "    if menu == 1:\n",
        "        show_data()\n",
        "    elif menu == 2:\n",
        "        insert_data()\n",
        "    elif menu == 3:\n",
        "        edit_data()\n",
        "    elif menu == 4:\n",
        "        delete_data()\n",
        "    elif menu == 5:\n",
        "        exit()\n",
        "    else:\n",
        "        print (\"Salah pilih!\")\n"
      ],
      "metadata": {
        "id": "dSd1UuQfLoIi"
      },
      "execution_count": 27,
      "outputs": []
    },
    {
      "cell_type": "code",
      "source": [
        "if __name__ == \"__main__\":\n",
        "\n",
        "    while(True):\n",
        "        show_menu()\n"
      ],
      "metadata": {
        "colab": {
          "base_uri": "https://localhost:8080/"
        },
        "id": "BdJDxcu1Mahu",
        "outputId": "e4e608d6-3e1d-4f6c-cf62-683a74c5c855"
      },
      "execution_count": null,
      "outputs": [
        {
          "output_type": "stream",
          "name": "stdout",
          "text": [
            "\n",
            "\n",
            "----------- MENU ----------\n",
            "[1] Show Data\n",
            "[2] Insert Data\n",
            "[3] Edit Data\n",
            "[4] Delete Data\n",
            "[5] Exit\n"
          ]
        }
      ]
    },
    {
      "cell_type": "code",
      "source": [
        "# Variabel global untuk menyimpan data Buku\n",
        "buku = []\n",
        "\n",
        "\n",
        "# fungsi untuk menampilkan semua data\n",
        "def show_data():\n",
        "    if len(buku) <= 0:\n",
        "        print (\"BELUM ADA DATA\")\n",
        "    else:\n",
        "        for indeks in range(len(buku)):\n",
        "            print (\"[%d] %s\" % (indeks, buku[indeks]))\n",
        "\n",
        "\n",
        "# fungsi untuk menambah data\n",
        "def insert_data():\n",
        "    buku_baru = raw_input(\"Judul Buku: \")\n",
        "    buku.append(buku_baru)\n",
        "\n",
        "# fungsi untuk edit data\n",
        "def edit_data():\n",
        "    show_data()\n",
        "    indeks = input(\"Inputkan ID buku: \")\n",
        "    if(indeks > len(buku)):\n",
        "        print \"ID salah\"\n",
        "    else:\n",
        "        judul_baru = raw_input(\"Judul baru: \")\n",
        "        buku[indeks] = judul_baru\n",
        "\n",
        "# fungsi untuk menghapus data\n",
        "def delete_data():\n",
        "    show_data()\n",
        "    indeks = input(\"Inputkan ID buku: \")\n",
        "    if(indeks > len(buku)):\n",
        "        print \"ID salah\"\n",
        "    else:\n",
        "        buku.remove(buku[indeks])\n",
        "\n",
        "# fungsi untuk menampilkan menu\n",
        "def show_menu():\n",
        "    print (\"\\n\")\n",
        "    print (\"----------- MENU ----------\")\n",
        "    print (\"[1] Show Data\")\n",
        "    print (\"[2] Insert Data\")\n",
        "    print (\"[3] Edit Data\")\n",
        "    print (\"[4] Delete Data\")\n",
        "    print (\"[5] Exit\")\n",
        "\n",
        "    menu = input(\"PILIH MENU> \")\n",
        "    print(\"\\n\")\n",
        "\n",
        "    if menu == 1:\n",
        "        show_data()\n",
        "    elif menu == 2:\n",
        "        insert_data()\n",
        "    elif menu == 3:\n",
        "        edit_data()\n",
        "    elif menu == 4:\n",
        "        delete_data()\n",
        "    elif menu == 5:\n",
        "        exit()\n",
        "    else:\n",
        "        print(\"Salah pilih!\")\n",
        "\n",
        "\n",
        "if __name__ == \"__main__\":\n",
        "\n",
        "    while(True):\n",
        "        show_menu()\n"
      ],
      "metadata": {
        "id": "fcKTXDqHMiVA"
      },
      "execution_count": null,
      "outputs": []
    }
  ]
}